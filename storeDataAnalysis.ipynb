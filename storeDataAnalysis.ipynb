{
 "cells": [
  {
   "cell_type": "markdown",
   "id": "9fe088a4-5c56-475f-8360-8ba30cbde413",
   "metadata": {},
   "source": [
    "# Commercial Store Data"
   ]
  },
  {
   "cell_type": "code",
   "execution_count": null,
   "id": "43ef8ec4-75e9-4f88-8b3f-20a8ccb94ff5",
   "metadata": {},
   "outputs": [],
   "source": [
    "import numpy as np\n",
    "import pandas as pd\n",
    "import matplotlib.pyplot as plt\n",
    "import seaborn as sns"
   ]
  },
  {
   "cell_type": "code",
   "execution_count": null,
   "id": "989d9e33-72d9-4148-a6ee-c1dafebc136e",
   "metadata": {},
   "outputs": [],
   "source": [
    "#load csv file\n",
    "storeData=pd.read_csv(\"data.csv\", low_memory=False)"
   ]
  },
  {
   "cell_type": "code",
   "execution_count": null,
   "id": "ffccf476-bbbf-43d8-9b47-7b587a9d7867",
   "metadata": {},
   "outputs": [],
   "source": [
    "# show data\n",
    "storeData"
   ]
  },
  {
   "cell_type": "code",
   "execution_count": null,
   "id": "4bbc0e7c-6415-4276-86cd-b24fb63c13d8",
   "metadata": {},
   "outputs": [],
   "source": [
    "#create dataframe \n",
    "df = pd.DataFrame(storeData)\n",
    "\n",
    "# Add new column 'Total Value' which is Quantity * Unit Price\n",
    "df['TotalValue'] = df['Quantity'] * df['UnitPrice']\n",
    "# Convert 'Invoice Date' to datetime format\n",
    "df['InvoiceDate'] = pd.to_datetime(df['InvoiceDate'])\n",
    "\n",
    "# Create new column Month and Year from Invoice Date\n",
    "df['Month-Year'] = df['InvoiceDate'].dt.strftime('%m-%Y')\n",
    "#show data\n",
    "df"
   ]
  },
  {
   "cell_type": "code",
   "execution_count": null,
   "id": "e83c352a-1b7e-47bc-83c0-e200826ab937",
   "metadata": {},
   "outputs": [],
   "source": [
    "# columns\n",
    "df.columns\n"
   ]
  },
  {
   "cell_type": "code",
   "execution_count": null,
   "id": "28d1f253-baae-4288-988b-0d78645d21ef",
   "metadata": {},
   "outputs": [],
   "source": [
    "\"\"\" column information:\n",
    "    InvoiceNo:invoice no: of customer\n",
    "    StockCode:unique identifier assigned to each product \n",
    "    Description:product name\n",
    "    Quantity:quantity of product \n",
    "    InvoiceDate:date of purchase\n",
    "    UnitPrice:price per unit item\n",
    "    CustomerID:unique ID of customer\n",
    "    Country:country of customer\n",
    "    TotalValue:total amount spend\n",
    "    Month-year:year and month\"\"\"\n",
    "\n",
    "# dataframe information\n",
    "df.info()\n"
   ]
  },
  {
   "cell_type": "code",
   "execution_count": null,
   "id": "b16a5011-efed-43ec-a92b-f25fb41c3380",
   "metadata": {},
   "outputs": [],
   "source": [
    "\n",
    "# Total rows and columnsd\n",
    "df.shape"
   ]
  },
  {
   "cell_type": "code",
   "execution_count": null,
   "id": "5b3ff297-9f26-4069-945f-ff4c55a147ff",
   "metadata": {},
   "outputs": [],
   "source": [
    "\"\"\"Count: The number of non-null entries.\n",
    "Mean: The average value.\n",
    "Standard Deviation (std): The spread of the data.\n",
    "Min: The minimum value.\n",
    "25%: The 25th percentile (first quartile).\n",
    "50%: The 50th percentile (median).\n",
    "75%: The 75th percentile (third quartile).\n",
    "Max: The maximum value.\"\"\"\n",
    "df.describe()"
   ]
  },
  {
   "cell_type": "code",
   "execution_count": null,
   "id": "c7ed131f-465b-4c44-a836-3d178363feda",
   "metadata": {},
   "outputs": [],
   "source": [
    "#to find customer who has spend maximum money in single  item purchase\n",
    "df.loc[df[\"TotalValue\"].argmax()][[\"CustomerID\",\"Description\",\"TotalValue\"]]"
   ]
  },
  {
   "cell_type": "markdown",
   "id": "08194f0f-08f5-4348-a71f-7eafbd92379b",
   "metadata": {},
   "source": [
    "# Product List"
   ]
  },
  {
   "cell_type": "code",
   "execution_count": null,
   "id": "aa746e8d-eeda-4e19-a2b3-0e0fa4644951",
   "metadata": {},
   "outputs": [],
   "source": [
    "#total number of uniqe products \n",
    "print(len(df.Description.unique()))\n",
    "#product List\n",
    "print(\"\\n\".join(map(str, df.Description.unique())))"
   ]
  },
  {
   "cell_type": "markdown",
   "id": "1d9c9179-85eb-475e-8812-2da407c5dd79",
   "metadata": {},
   "source": [
    "# Countries List"
   ]
  },
  {
   "cell_type": "code",
   "execution_count": null,
   "id": "52c032cb-8411-40b9-98c1-5be4a3a8b854",
   "metadata": {},
   "outputs": [],
   "source": [
    "#total number of uniqe countries \n",
    "print(len(df.Country.unique()))\n",
    "#Country List\n",
    "print(\"\\n\".join(df.Country.unique()))"
   ]
  },
  {
   "cell_type": "code",
   "execution_count": null,
   "id": "91842005-2e43-4480-b751-8c1a196fc569",
   "metadata": {},
   "outputs": [],
   "source": [
    "# Total money spend by customers with respect to each country\n",
    "salesByCountery=df.groupby('Country')['TotalValue'].sum().sort_values(ascending=False)\n",
    "# show data\n",
    "salesByCountery"
   ]
  },
  {
   "cell_type": "code",
   "execution_count": null,
   "id": "a861e3be-7378-44d1-a3f8-9c16b12c1f72",
   "metadata": {},
   "outputs": [],
   "source": [
    "#  total quantity of products sold over all\n",
    "totalProductsSold = df.groupby('Description')['Quantity'].sum().sort_values(ascending=False).head(522)\n",
    "# show data\n",
    "pd.set_option('display.max_rows', None)\n",
    "popularProducts\n"
   ]
  },
  {
   "cell_type": "code",
   "execution_count": null,
   "id": "b31d7b6d-f285-46e0-82e4-2c4b0a5df98d",
   "metadata": {},
   "outputs": [],
   "source": [
    "CustomerTotalSpending = df.groupby('CustomerID')['TotalValue'].sum().sort_values(ascending=False)\n",
    "# show data\n",
    "#pd.set_option('display.max_rows', None)\n",
    "CustomerTotalSpending"
   ]
  },
  {
   "cell_type": "markdown",
   "id": "40d3009d-0ee4-4c35-9c5a-e0b2a3d759c8",
   "metadata": {},
   "source": [
    "# Basic visualizations"
   ]
  },
  {
   "cell_type": "code",
   "execution_count": null,
   "id": "003c7466-bc80-45fc-90da-dc259f0a175b",
   "metadata": {},
   "outputs": [],
   "source": []
  }
 ],
 "metadata": {
  "kernelspec": {
   "display_name": "Python 3 (ipykernel)",
   "language": "python",
   "name": "python3"
  },
  "language_info": {
   "codemirror_mode": {
    "name": "ipython",
    "version": 3
   },
   "file_extension": ".py",
   "mimetype": "text/x-python",
   "name": "python",
   "nbconvert_exporter": "python",
   "pygments_lexer": "ipython3",
   "version": "3.12.4"
  }
 },
 "nbformat": 4,
 "nbformat_minor": 5
}
